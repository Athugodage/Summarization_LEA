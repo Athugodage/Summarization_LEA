{
  "nbformat": 4,
  "nbformat_minor": 0,
  "metadata": {
    "colab": {
      "private_outputs": true,
      "provenance": [],
      "authorship_tag": "ABX9TyOUPtcachmZVW8HzMGKDx6h",
      "include_colab_link": true
    },
    "kernelspec": {
      "name": "python3",
      "display_name": "Python 3"
    },
    "language_info": {
      "name": "python"
    }
  },
  "cells": [
    {
      "cell_type": "markdown",
      "metadata": {
        "id": "view-in-github",
        "colab_type": "text"
      },
      "source": [
        "<a href=\"https://colab.research.google.com/github/Athugodage/Summarization_LEA/blob/main/longformer_eval.ipynb\" target=\"_parent\"><img src=\"https://colab.research.google.com/assets/colab-badge.svg\" alt=\"Open In Colab\"/></a>"
      ]
    },
    {
      "cell_type": "code",
      "source": [
        "!pip install transformers"
      ],
      "metadata": {
        "id": "MUhScutVYezk"
      },
      "execution_count": null,
      "outputs": []
    },
    {
      "cell_type": "code",
      "source": [
        "!pip install datasets rouge_score"
      ],
      "metadata": {
        "id": "Ao3gbFBFZDgb"
      },
      "execution_count": null,
      "outputs": []
    },
    {
      "cell_type": "code",
      "execution_count": null,
      "metadata": {
        "id": "Z7OIcsteYMMF"
      },
      "outputs": [],
      "source": [
        "from transformers import pipeline\n",
        "\n",
        "summarizer = pipeline('summarization', model='marcus2000/longformerTextranked', tokenizer='marcus2000/longformerTextranked')"
      ]
    },
    {
      "cell_type": "code",
      "source": [
        "from datasets import load_dataset, load_metric"
      ],
      "metadata": {
        "id": "H8M33bASY8kD"
      },
      "execution_count": null,
      "outputs": []
    },
    {
      "cell_type": "code",
      "source": [
        "dataset = load_dataset('xsum')"
      ],
      "metadata": {
        "id": "6MTU2xb7ZWiq"
      },
      "execution_count": null,
      "outputs": []
    },
    {
      "cell_type": "code",
      "source": [
        "rouge = load_metric('rouge')"
      ],
      "metadata": {
        "id": "OuBtFMuKZaRp"
      },
      "execution_count": null,
      "outputs": []
    },
    {
      "cell_type": "code",
      "source": [
        "dataset['test']['document'][1]"
      ],
      "metadata": {
        "id": "-qXhppalbmJK"
      },
      "execution_count": null,
      "outputs": []
    },
    {
      "cell_type": "code",
      "source": [
        "summarizer([dataset['test']['document'][1][:3000]], max_length=100, repetition_penalty=20.0)"
      ],
      "metadata": {
        "id": "IvtsH2-yY5PH"
      },
      "execution_count": null,
      "outputs": []
    },
    {
      "cell_type": "code",
      "source": [
        "\n",
        "from tqdm import tqdm\n",
        "\n",
        "real = dataset['test']['document'][:1000]\n",
        "preds = []\n",
        "\n",
        "for orig in tqdm(real):\n",
        "    generated_text = summarizer(orig, max_length=100, repetition_penalty=20.0)\n",
        "    generated_text = str(generated_text[0]['summary_text'])\n",
        "    preds.append(generated_text)"
      ],
      "metadata": {
        "id": "7TKap-ZKcR3C"
      },
      "execution_count": null,
      "outputs": []
    },
    {
      "cell_type": "code",
      "source": [
        "!pip install evaluate"
      ],
      "metadata": {
        "id": "W26aGuQ3iu7u"
      },
      "execution_count": null,
      "outputs": []
    },
    {
      "cell_type": "code",
      "source": [
        "import evaluate\n",
        "\n",
        "rouge = evaluate.load(\"rouge\")\n",
        "rouge.compute(references=dataset['test']['document'][:1000], predictions=[str(p) for p in preds])"
      ],
      "metadata": {
        "id": "EHOq3MqmeHeT"
      },
      "execution_count": null,
      "outputs": []
    }
  ]
}